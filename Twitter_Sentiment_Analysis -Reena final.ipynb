{
 "cells": [
  {
   "cell_type": "markdown",
   "metadata": {
    "id": "2t3HX2XoYp81"
   },
   "source": [
    "# Name  :  Reena Rajendra Prasad\n",
    "# **Project Description: Twitter US Airline Sentiment**\n",
    "\n",
    "Data Description:\n",
    "A sentiment analysis job about the problems of each major U.S. airline. Twitter data was scraped from February of 2015 and contributors were asked to first classify positive, negative, and neutral tweets, followed by categorizing negative reasons (such as \"late flight\" or \"rude service\")."
   ]
  },
  {
   "cell_type": "markdown",
   "metadata": {
    "id": "hTVFZ7WZ0OuS"
   },
   "source": [
    "[Git Hub Link to the Project ](https://github.com/GreatLearningAIML1/gl-pgp-aiml-uta-intl-apr20-Reena-R/blob/master/Twitter_Sentiment_Analysis.ipynb)"
   ]
  },
  {
   "cell_type": "code",
   "execution_count": 249,
   "metadata": {
    "colab": {
     "base_uri": "https://localhost:8080/"
    },
    "id": "KjEbtVupWm9n",
    "outputId": "ddd20e59-67d3-42c6-8a26-12da4b63a68d"
   },
   "outputs": [
    {
     "name": "stdout",
     "output_type": "stream",
     "text": [
      "[nltk_data] Downloading package punkt to /root/nltk_data...\n",
      "[nltk_data]   Package punkt is already up-to-date!\n",
      "[nltk_data] Downloading package stopwords to /root/nltk_data...\n",
      "[nltk_data]   Package stopwords is already up-to-date!\n",
      "[nltk_data] Downloading package wordnet to /root/nltk_data...\n",
      "[nltk_data]   Package wordnet is already up-to-date!\n",
      "Requirement already satisfied: contractions in /usr/local/lib/python3.7/dist-packages (0.0.48)\n",
      "Requirement already satisfied: textsearch>=0.0.21 in /usr/local/lib/python3.7/dist-packages (from contractions) (0.0.21)\n",
      "Requirement already satisfied: anyascii in /usr/local/lib/python3.7/dist-packages (from textsearch>=0.0.21->contractions) (0.1.7)\n",
      "Requirement already satisfied: pyahocorasick in /usr/local/lib/python3.7/dist-packages (from textsearch>=0.0.21->contractions) (1.4.1)\n"
     ]
    }
   ],
   "source": [
    "#Import neccessary Libraries\n",
    "import pandas as pd\n",
    "import numpy as np\n",
    "import nltk\n",
    "\n",
    "nltk.download('punkt')\n",
    "nltk.download('stopwords')\n",
    "nltk.download('wordnet')\n",
    "import re                   #regular expression\n",
    "\n",
    "from nltk.corpus import stopwords                   #Stopwords corpus\n",
    "from nltk.stem import PorterStemmer                 # Stemmer\n",
    "from nltk.stem import WordNetLemmatizer             #Lemmatizer\n",
    "from nltk.tokenize import word_tokenize             #word tokenizer\n",
    "from bs4 import BeautifulSoup\n",
    "import unicodedata\n",
    "!pip install  contractions\n",
    "import contractions\n",
    "\n",
    "from sklearn.feature_extraction.text import CountVectorizer          #For Bag of words\n",
    "from sklearn.feature_extraction.text import TfidfVectorizer    \n",
    "\n",
    "import matplotlib.pyplot as plt\n",
    "%matplotlib inline\n",
    "import seaborn as sns\n",
    "from sklearn import metrics\n",
    "from sklearn.metrics import confusion_matrix, recall_score, precision_score, f1_score, roc_auc_score,accuracy_score\n"
   ]
  },
  {
   "cell_type": "code",
   "execution_count": 250,
   "metadata": {
    "colab": {
     "base_uri": "https://localhost:8080/"
    },
    "id": "OMq0WExmagfX",
    "outputId": "1297ea92-96db-4aef-8849-212a9a451c29"
   },
   "outputs": [
    {
     "name": "stdout",
     "output_type": "stream",
     "text": [
      "Drive already mounted at /content/drive; to attempt to forcibly remount, call drive.mount(\"/content/drive\", force_remount=True).\n"
     ]
    }
   ],
   "source": [
    "#Mount Drive\n",
    "from google.colab import drive\n",
    "drive.mount('/content/drive')"
   ]
  },
  {
   "cell_type": "code",
   "execution_count": 251,
   "metadata": {
    "colab": {
     "base_uri": "https://localhost:8080/",
     "height": 632
    },
    "id": "xYm48rkmaADz",
    "outputId": "aeeeb467-4fb3-4c35-9881-afd009738212"
   },
   "outputs": [
    {
     "data": {
      "text/html": [
       "<div>\n",
       "<style scoped>\n",
       "    .dataframe tbody tr th:only-of-type {\n",
       "        vertical-align: middle;\n",
       "    }\n",
       "\n",
       "    .dataframe tbody tr th {\n",
       "        vertical-align: top;\n",
       "    }\n",
       "\n",
       "    .dataframe thead th {\n",
       "        text-align: right;\n",
       "    }\n",
       "</style>\n",
       "<table border=\"1\" class=\"dataframe\">\n",
       "  <thead>\n",
       "    <tr style=\"text-align: right;\">\n",
       "      <th></th>\n",
       "      <th>tweet_id</th>\n",
       "      <th>airline_sentiment</th>\n",
       "      <th>airline_sentiment_confidence</th>\n",
       "      <th>negativereason</th>\n",
       "      <th>negativereason_confidence</th>\n",
       "      <th>airline</th>\n",
       "      <th>airline_sentiment_gold</th>\n",
       "      <th>name</th>\n",
       "      <th>negativereason_gold</th>\n",
       "      <th>retweet_count</th>\n",
       "      <th>text</th>\n",
       "      <th>tweet_coord</th>\n",
       "      <th>tweet_created</th>\n",
       "      <th>tweet_location</th>\n",
       "      <th>user_timezone</th>\n",
       "    </tr>\n",
       "  </thead>\n",
       "  <tbody>\n",
       "    <tr>\n",
       "      <th>0</th>\n",
       "      <td>570306133677760513</td>\n",
       "      <td>neutral</td>\n",
       "      <td>1.0000</td>\n",
       "      <td>NaN</td>\n",
       "      <td>NaN</td>\n",
       "      <td>Virgin America</td>\n",
       "      <td>NaN</td>\n",
       "      <td>cairdin</td>\n",
       "      <td>NaN</td>\n",
       "      <td>0</td>\n",
       "      <td>@VirginAmerica What @dhepburn said.</td>\n",
       "      <td>NaN</td>\n",
       "      <td>2015-02-24 11:35:52 -0800</td>\n",
       "      <td>NaN</td>\n",
       "      <td>Eastern Time (US &amp; Canada)</td>\n",
       "    </tr>\n",
       "    <tr>\n",
       "      <th>1</th>\n",
       "      <td>570301130888122368</td>\n",
       "      <td>positive</td>\n",
       "      <td>0.3486</td>\n",
       "      <td>NaN</td>\n",
       "      <td>0.0000</td>\n",
       "      <td>Virgin America</td>\n",
       "      <td>NaN</td>\n",
       "      <td>jnardino</td>\n",
       "      <td>NaN</td>\n",
       "      <td>0</td>\n",
       "      <td>@VirginAmerica plus you've added commercials to the experience... tacky.</td>\n",
       "      <td>NaN</td>\n",
       "      <td>2015-02-24 11:15:59 -0800</td>\n",
       "      <td>NaN</td>\n",
       "      <td>Pacific Time (US &amp; Canada)</td>\n",
       "    </tr>\n",
       "    <tr>\n",
       "      <th>2</th>\n",
       "      <td>570301083672813571</td>\n",
       "      <td>neutral</td>\n",
       "      <td>0.6837</td>\n",
       "      <td>NaN</td>\n",
       "      <td>NaN</td>\n",
       "      <td>Virgin America</td>\n",
       "      <td>NaN</td>\n",
       "      <td>yvonnalynn</td>\n",
       "      <td>NaN</td>\n",
       "      <td>0</td>\n",
       "      <td>@VirginAmerica I didn't today... Must mean I need to take another trip!</td>\n",
       "      <td>NaN</td>\n",
       "      <td>2015-02-24 11:15:48 -0800</td>\n",
       "      <td>Lets Play</td>\n",
       "      <td>Central Time (US &amp; Canada)</td>\n",
       "    </tr>\n",
       "    <tr>\n",
       "      <th>3</th>\n",
       "      <td>570301031407624196</td>\n",
       "      <td>negative</td>\n",
       "      <td>1.0000</td>\n",
       "      <td>Bad Flight</td>\n",
       "      <td>0.7033</td>\n",
       "      <td>Virgin America</td>\n",
       "      <td>NaN</td>\n",
       "      <td>jnardino</td>\n",
       "      <td>NaN</td>\n",
       "      <td>0</td>\n",
       "      <td>@VirginAmerica it's really aggressive to blast obnoxious \"entertainment\" in your guests' faces &amp;amp; they have little recourse</td>\n",
       "      <td>NaN</td>\n",
       "      <td>2015-02-24 11:15:36 -0800</td>\n",
       "      <td>NaN</td>\n",
       "      <td>Pacific Time (US &amp; Canada)</td>\n",
       "    </tr>\n",
       "    <tr>\n",
       "      <th>4</th>\n",
       "      <td>570300817074462722</td>\n",
       "      <td>negative</td>\n",
       "      <td>1.0000</td>\n",
       "      <td>Can't Tell</td>\n",
       "      <td>1.0000</td>\n",
       "      <td>Virgin America</td>\n",
       "      <td>NaN</td>\n",
       "      <td>jnardino</td>\n",
       "      <td>NaN</td>\n",
       "      <td>0</td>\n",
       "      <td>@VirginAmerica and it's a really big bad thing about it</td>\n",
       "      <td>NaN</td>\n",
       "      <td>2015-02-24 11:14:45 -0800</td>\n",
       "      <td>NaN</td>\n",
       "      <td>Pacific Time (US &amp; Canada)</td>\n",
       "    </tr>\n",
       "  </tbody>\n",
       "</table>\n",
       "</div>"
      ],
      "text/plain": [
       "             tweet_id  ...               user_timezone\n",
       "0  570306133677760513  ...  Eastern Time (US & Canada)\n",
       "1  570301130888122368  ...  Pacific Time (US & Canada)\n",
       "2  570301083672813571  ...  Central Time (US & Canada)\n",
       "3  570301031407624196  ...  Pacific Time (US & Canada)\n",
       "4  570300817074462722  ...  Pacific Time (US & Canada)\n",
       "\n",
       "[5 rows x 15 columns]"
      ]
     },
     "execution_count": 251,
     "metadata": {
      "tags": []
     },
     "output_type": "execute_result"
    }
   ],
   "source": [
    "#Load  Dataset\n",
    "df=pd.read_csv(\"/content/drive/My Drive/AIML/NLP Project/Tweets.csv\")\n",
    "df.head()"
   ]
  },
  {
   "cell_type": "code",
   "execution_count": 252,
   "metadata": {
    "colab": {
     "base_uri": "https://localhost:8080/"
    },
    "id": "6gM5DoOqbziX",
    "outputId": "1cb5e582-64b0-4282-9c90-d59fe03afc51"
   },
   "outputs": [
    {
     "data": {
      "text/plain": [
       "(14640, 15)"
      ]
     },
     "execution_count": 252,
     "metadata": {
      "tags": []
     },
     "output_type": "execute_result"
    }
   ],
   "source": [
    "#sahpe of data\n",
    "df.shape"
   ]
  },
  {
   "cell_type": "code",
   "execution_count": 253,
   "metadata": {
    "colab": {
     "base_uri": "https://localhost:8080/"
    },
    "id": "pQaBemk-cFIa",
    "outputId": "c7fd79e2-a515-467d-8b2d-a7be18c6fd97"
   },
   "outputs": [
    {
     "name": "stdout",
     "output_type": "stream",
     "text": [
      "<class 'pandas.core.frame.DataFrame'>\n",
      "RangeIndex: 14640 entries, 0 to 14639\n",
      "Data columns (total 15 columns):\n",
      " #   Column                        Non-Null Count  Dtype  \n",
      "---  ------                        --------------  -----  \n",
      " 0   tweet_id                      14640 non-null  int64  \n",
      " 1   airline_sentiment             14640 non-null  object \n",
      " 2   airline_sentiment_confidence  14640 non-null  float64\n",
      " 3   negativereason                9178 non-null   object \n",
      " 4   negativereason_confidence     10522 non-null  float64\n",
      " 5   airline                       14640 non-null  object \n",
      " 6   airline_sentiment_gold        40 non-null     object \n",
      " 7   name                          14640 non-null  object \n",
      " 8   negativereason_gold           32 non-null     object \n",
      " 9   retweet_count                 14640 non-null  int64  \n",
      " 10  text                          14640 non-null  object \n",
      " 11  tweet_coord                   1019 non-null   object \n",
      " 12  tweet_created                 14640 non-null  object \n",
      " 13  tweet_location                9907 non-null   object \n",
      " 14  user_timezone                 9820 non-null   object \n",
      "dtypes: float64(2), int64(2), object(11)\n",
      "memory usage: 1.7+ MB\n"
     ]
    }
   ],
   "source": [
    "df.info()"
   ]
  },
  {
   "cell_type": "markdown",
   "metadata": {
    "id": "j6JFcapfejHy"
   },
   "source": [
    "**INSIGHTS**  : Data  Contains  14640   rows of non null tweets  and airline_sentiment   Which are the relevent columns here for analysis"
   ]
  },
  {
   "cell_type": "code",
   "execution_count": 254,
   "metadata": {
    "colab": {
     "base_uri": "https://localhost:8080/",
     "height": 173
    },
    "id": "BQoixVuJb6BN",
    "outputId": "d6be144d-64dc-450f-beda-0c966a75c50b"
   },
   "outputs": [
    {
     "data": {
      "text/html": [
       "<div>\n",
       "<style scoped>\n",
       "    .dataframe tbody tr th:only-of-type {\n",
       "        vertical-align: middle;\n",
       "    }\n",
       "\n",
       "    .dataframe tbody tr th {\n",
       "        vertical-align: top;\n",
       "    }\n",
       "\n",
       "    .dataframe thead th {\n",
       "        text-align: right;\n",
       "    }\n",
       "</style>\n",
       "<table border=\"1\" class=\"dataframe\">\n",
       "  <thead>\n",
       "    <tr style=\"text-align: right;\">\n",
       "      <th></th>\n",
       "      <th>count</th>\n",
       "      <th>mean</th>\n",
       "      <th>std</th>\n",
       "      <th>min</th>\n",
       "      <th>25%</th>\n",
       "      <th>50%</th>\n",
       "      <th>75%</th>\n",
       "      <th>max</th>\n",
       "    </tr>\n",
       "  </thead>\n",
       "  <tbody>\n",
       "    <tr>\n",
       "      <th>tweet_id</th>\n",
       "      <td>14640.0</td>\n",
       "      <td>5.692184e+17</td>\n",
       "      <td>7.791112e+14</td>\n",
       "      <td>5.675883e+17</td>\n",
       "      <td>5.685592e+17</td>\n",
       "      <td>5.694779e+17</td>\n",
       "      <td>5.698905e+17</td>\n",
       "      <td>5.703106e+17</td>\n",
       "    </tr>\n",
       "    <tr>\n",
       "      <th>airline_sentiment_confidence</th>\n",
       "      <td>14640.0</td>\n",
       "      <td>9.001689e-01</td>\n",
       "      <td>1.628300e-01</td>\n",
       "      <td>3.350000e-01</td>\n",
       "      <td>6.923000e-01</td>\n",
       "      <td>1.000000e+00</td>\n",
       "      <td>1.000000e+00</td>\n",
       "      <td>1.000000e+00</td>\n",
       "    </tr>\n",
       "    <tr>\n",
       "      <th>negativereason_confidence</th>\n",
       "      <td>10522.0</td>\n",
       "      <td>6.382983e-01</td>\n",
       "      <td>3.304398e-01</td>\n",
       "      <td>0.000000e+00</td>\n",
       "      <td>3.606000e-01</td>\n",
       "      <td>6.706000e-01</td>\n",
       "      <td>1.000000e+00</td>\n",
       "      <td>1.000000e+00</td>\n",
       "    </tr>\n",
       "    <tr>\n",
       "      <th>retweet_count</th>\n",
       "      <td>14640.0</td>\n",
       "      <td>8.265027e-02</td>\n",
       "      <td>7.457782e-01</td>\n",
       "      <td>0.000000e+00</td>\n",
       "      <td>0.000000e+00</td>\n",
       "      <td>0.000000e+00</td>\n",
       "      <td>0.000000e+00</td>\n",
       "      <td>4.400000e+01</td>\n",
       "    </tr>\n",
       "  </tbody>\n",
       "</table>\n",
       "</div>"
      ],
      "text/plain": [
       "                                count          mean  ...           75%           max\n",
       "tweet_id                      14640.0  5.692184e+17  ...  5.698905e+17  5.703106e+17\n",
       "airline_sentiment_confidence  14640.0  9.001689e-01  ...  1.000000e+00  1.000000e+00\n",
       "negativereason_confidence     10522.0  6.382983e-01  ...  1.000000e+00  1.000000e+00\n",
       "retweet_count                 14640.0  8.265027e-02  ...  0.000000e+00  4.400000e+01\n",
       "\n",
       "[4 rows x 8 columns]"
      ]
     },
     "execution_count": 254,
     "metadata": {
      "tags": []
     },
     "output_type": "execute_result"
    }
   ],
   "source": [
    "# describe the Data\n",
    "df.describe().T"
   ]
  },
  {
   "cell_type": "code",
   "execution_count": 255,
   "metadata": {
    "colab": {
     "base_uri": "https://localhost:8080/"
    },
    "id": "BEcD6OAdfyPT",
    "outputId": "28042fe4-0900-4b2c-8b6b-289d162c3e74"
   },
   "outputs": [
    {
     "data": {
      "text/plain": [
       "Index(['tweet_id', 'airline_sentiment', 'airline_sentiment_confidence',\n",
       "       'negativereason', 'negativereason_confidence', 'airline',\n",
       "       'airline_sentiment_gold', 'name', 'negativereason_gold',\n",
       "       'retweet_count', 'text', 'tweet_coord', 'tweet_created',\n",
       "       'tweet_location', 'user_timezone'],\n",
       "      dtype='object')"
      ]
     },
     "execution_count": 255,
     "metadata": {
      "tags": []
     },
     "output_type": "execute_result"
    }
   ],
   "source": [
    "#ColumnNames\n",
    "df.columns"
   ]
  },
  {
   "cell_type": "code",
   "execution_count": 256,
   "metadata": {
    "id": "wriQIhrFf7wf"
   },
   "outputs": [],
   "source": [
    "# Delete unnecessary columns\n",
    "df_data = df.drop(['tweet_id','airline_sentiment_confidence','negativereason', 'negativereason_confidence', 'airline','airline_sentiment_gold', 'name', 'negativereason_gold',\n",
    "       'retweet_count', 'tweet_coord', 'tweet_created','tweet_location', 'user_timezone'],axis=1)"
   ]
  },
  {
   "cell_type": "code",
   "execution_count": 257,
   "metadata": {
    "colab": {
     "base_uri": "https://localhost:8080/"
    },
    "id": "QUVyE84Ogtmt",
    "outputId": "78829202-32a2-4ff3-bb07-a0f315408018"
   },
   "outputs": [
    {
     "data": {
      "text/plain": [
       "(14640, 2)"
      ]
     },
     "execution_count": 257,
     "metadata": {
      "tags": []
     },
     "output_type": "execute_result"
    }
   ],
   "source": [
    "#Shape Of Data\n",
    "df_data.shape"
   ]
  },
  {
   "cell_type": "code",
   "execution_count": 258,
   "metadata": {
    "colab": {
     "base_uri": "https://localhost:8080/"
    },
    "id": "r7a_8Hfjg0Br",
    "outputId": "0f5ee4ec-aef0-4eaf-d5a4-a9819e07da28"
   },
   "outputs": [
    {
     "name": "stdout",
     "output_type": "stream",
     "text": [
      "<class 'pandas.core.frame.DataFrame'>\n",
      "RangeIndex: 14640 entries, 0 to 14639\n",
      "Data columns (total 2 columns):\n",
      " #   Column             Non-Null Count  Dtype \n",
      "---  ------             --------------  ----- \n",
      " 0   airline_sentiment  14640 non-null  object\n",
      " 1   text               14640 non-null  object\n",
      "dtypes: object(2)\n",
      "memory usage: 228.9+ KB\n"
     ]
    }
   ],
   "source": [
    "df_data.info()"
   ]
  },
  {
   "cell_type": "code",
   "execution_count": 259,
   "metadata": {
    "colab": {
     "base_uri": "https://localhost:8080/",
     "height": 204
    },
    "id": "ftU-2L8HhtUZ",
    "outputId": "33d73042-c7a3-412a-e3a7-c5d9dda37f0c"
   },
   "outputs": [
    {
     "data": {
      "text/html": [
       "<div>\n",
       "<style scoped>\n",
       "    .dataframe tbody tr th:only-of-type {\n",
       "        vertical-align: middle;\n",
       "    }\n",
       "\n",
       "    .dataframe tbody tr th {\n",
       "        vertical-align: top;\n",
       "    }\n",
       "\n",
       "    .dataframe thead th {\n",
       "        text-align: right;\n",
       "    }\n",
       "</style>\n",
       "<table border=\"1\" class=\"dataframe\">\n",
       "  <thead>\n",
       "    <tr style=\"text-align: right;\">\n",
       "      <th></th>\n",
       "      <th>airline_sentiment</th>\n",
       "      <th>text</th>\n",
       "    </tr>\n",
       "  </thead>\n",
       "  <tbody>\n",
       "    <tr>\n",
       "      <th>0</th>\n",
       "      <td>neutral</td>\n",
       "      <td>@VirginAmerica What @dhepburn said.</td>\n",
       "    </tr>\n",
       "    <tr>\n",
       "      <th>1</th>\n",
       "      <td>positive</td>\n",
       "      <td>@VirginAmerica plus you've added commercials to the experience... tacky.</td>\n",
       "    </tr>\n",
       "    <tr>\n",
       "      <th>2</th>\n",
       "      <td>neutral</td>\n",
       "      <td>@VirginAmerica I didn't today... Must mean I need to take another trip!</td>\n",
       "    </tr>\n",
       "    <tr>\n",
       "      <th>3</th>\n",
       "      <td>negative</td>\n",
       "      <td>@VirginAmerica it's really aggressive to blast obnoxious \"entertainment\" in your guests' faces &amp;amp; they have little recourse</td>\n",
       "    </tr>\n",
       "    <tr>\n",
       "      <th>4</th>\n",
       "      <td>negative</td>\n",
       "      <td>@VirginAmerica and it's a really big bad thing about it</td>\n",
       "    </tr>\n",
       "  </tbody>\n",
       "</table>\n",
       "</div>"
      ],
      "text/plain": [
       "  airline_sentiment                                                                                                                            text\n",
       "0           neutral                                                                                             @VirginAmerica What @dhepburn said.\n",
       "1          positive                                                        @VirginAmerica plus you've added commercials to the experience... tacky.\n",
       "2           neutral                                                         @VirginAmerica I didn't today... Must mean I need to take another trip!\n",
       "3          negative  @VirginAmerica it's really aggressive to blast obnoxious \"entertainment\" in your guests' faces &amp; they have little recourse\n",
       "4          negative                                                                         @VirginAmerica and it's a really big bad thing about it"
      ]
     },
     "execution_count": 259,
     "metadata": {
      "tags": []
     },
     "output_type": "execute_result"
    }
   ],
   "source": [
    "#Set max column width \n",
    "pd.set_option('display.max_colwidth', None)\n",
    "df_data.head()"
   ]
  },
  {
   "cell_type": "code",
   "execution_count": 260,
   "metadata": {
    "colab": {
     "base_uri": "https://localhost:8080/"
    },
    "id": "1bFunx6IujLJ",
    "outputId": "66af675e-8165-4f78-bd0b-ebf77d2fc69a"
   },
   "outputs": [
    {
     "data": {
      "text/plain": [
       "negative    0.626913\n",
       "neutral     0.211680\n",
       "positive    0.161407\n",
       "Name: airline_sentiment, dtype: float64"
      ]
     },
     "execution_count": 260,
     "metadata": {
      "tags": []
     },
     "output_type": "execute_result"
    }
   ],
   "source": [
    "df_data['airline_sentiment'].value_counts(normalize=True)"
   ]
  },
  {
   "cell_type": "markdown",
   "metadata": {
    "id": "OblgMIf4wbkX"
   },
   "source": [
    "**Insight** :  The data is higly unbalanced  , with more number of negative   feed backs "
   ]
  },
  {
   "cell_type": "markdown",
   "metadata": {
    "id": "jRx_DFvxiPPQ"
   },
   "source": [
    "\n",
    "**Text pre-processing**"
   ]
  },
  {
   "cell_type": "markdown",
   "metadata": {
    "id": "hwl64PPHiUCZ"
   },
   "source": [
    "# a. Html tag removal."
   ]
  },
  {
   "cell_type": "code",
   "execution_count": 261,
   "metadata": {
    "id": "CO3kOb_RiZrU"
   },
   "outputs": [],
   "source": [
    "def strip_html(txt):\n",
    "    soup=BeautifulSoup(txt,'html.parser')\n",
    "    return soup.get_text()"
   ]
  },
  {
   "cell_type": "code",
   "execution_count": 262,
   "metadata": {
    "id": "wGhaqXj-kiEe"
   },
   "outputs": [],
   "source": [
    "for i, row in df_data.iterrows():\n",
    "   text = df_data.at[i, 'text']\n",
    "   new_txt = strip_html(text)\n",
    "   df_data.at[i,'text'] = new_txt"
   ]
  },
  {
   "cell_type": "code",
   "execution_count": 263,
   "metadata": {
    "colab": {
     "base_uri": "https://localhost:8080/",
     "height": 204
    },
    "id": "Y8sNXHvGk9yx",
    "outputId": "e4df82bd-57d7-4262-d501-960a3a206edc"
   },
   "outputs": [
    {
     "data": {
      "text/html": [
       "<div>\n",
       "<style scoped>\n",
       "    .dataframe tbody tr th:only-of-type {\n",
       "        vertical-align: middle;\n",
       "    }\n",
       "\n",
       "    .dataframe tbody tr th {\n",
       "        vertical-align: top;\n",
       "    }\n",
       "\n",
       "    .dataframe thead th {\n",
       "        text-align: right;\n",
       "    }\n",
       "</style>\n",
       "<table border=\"1\" class=\"dataframe\">\n",
       "  <thead>\n",
       "    <tr style=\"text-align: right;\">\n",
       "      <th></th>\n",
       "      <th>airline_sentiment</th>\n",
       "      <th>text</th>\n",
       "    </tr>\n",
       "  </thead>\n",
       "  <tbody>\n",
       "    <tr>\n",
       "      <th>0</th>\n",
       "      <td>neutral</td>\n",
       "      <td>@VirginAmerica What @dhepburn said.</td>\n",
       "    </tr>\n",
       "    <tr>\n",
       "      <th>1</th>\n",
       "      <td>positive</td>\n",
       "      <td>@VirginAmerica plus you've added commercials to the experience... tacky.</td>\n",
       "    </tr>\n",
       "    <tr>\n",
       "      <th>2</th>\n",
       "      <td>neutral</td>\n",
       "      <td>@VirginAmerica I didn't today... Must mean I need to take another trip!</td>\n",
       "    </tr>\n",
       "    <tr>\n",
       "      <th>3</th>\n",
       "      <td>negative</td>\n",
       "      <td>@VirginAmerica it's really aggressive to blast obnoxious \"entertainment\" in your guests' faces &amp; they have little recourse</td>\n",
       "    </tr>\n",
       "    <tr>\n",
       "      <th>4</th>\n",
       "      <td>negative</td>\n",
       "      <td>@VirginAmerica and it's a really big bad thing about it</td>\n",
       "    </tr>\n",
       "  </tbody>\n",
       "</table>\n",
       "</div>"
      ],
      "text/plain": [
       "  airline_sentiment                                                                                                                        text\n",
       "0           neutral                                                                                         @VirginAmerica What @dhepburn said.\n",
       "1          positive                                                    @VirginAmerica plus you've added commercials to the experience... tacky.\n",
       "2           neutral                                                     @VirginAmerica I didn't today... Must mean I need to take another trip!\n",
       "3          negative  @VirginAmerica it's really aggressive to blast obnoxious \"entertainment\" in your guests' faces & they have little recourse\n",
       "4          negative                                                                     @VirginAmerica and it's a really big bad thing about it"
      ]
     },
     "execution_count": 263,
     "metadata": {
      "tags": []
     },
     "output_type": "execute_result"
    }
   ],
   "source": [
    "df_data.head()"
   ]
  },
  {
   "cell_type": "markdown",
   "metadata": {
    "id": "rDF449YPQgkL"
   },
   "source": [
    "# Remove UrlS"
   ]
  },
  {
   "cell_type": "code",
   "execution_count": 264,
   "metadata": {
    "id": "TmCDsY1aQmVt"
   },
   "outputs": [],
   "source": [
    "def remove_url(txt):\n",
    "   pattern= r'http\\S+'\n",
    "   return re.sub(pattern,'',txt)  "
   ]
  },
  {
   "cell_type": "code",
   "execution_count": 265,
   "metadata": {
    "id": "s9O26CX5Q8fQ"
   },
   "outputs": [],
   "source": [
    "for i, row in df_data.iterrows():\n",
    "   text = df_data.at[i, 'text']\n",
    "   new_txt = remove_url(text)\n",
    "   df_data.at[i,'text'] = new_txt"
   ]
  },
  {
   "cell_type": "code",
   "execution_count": 266,
   "metadata": {
    "colab": {
     "base_uri": "https://localhost:8080/",
     "height": 669
    },
    "id": "TUbx-kcPRtLh",
    "outputId": "904b444a-f631-42b4-946a-5aafdb129ef0"
   },
   "outputs": [
    {
     "data": {
      "text/html": [
       "<div>\n",
       "<style scoped>\n",
       "    .dataframe tbody tr th:only-of-type {\n",
       "        vertical-align: middle;\n",
       "    }\n",
       "\n",
       "    .dataframe tbody tr th {\n",
       "        vertical-align: top;\n",
       "    }\n",
       "\n",
       "    .dataframe thead th {\n",
       "        text-align: right;\n",
       "    }\n",
       "</style>\n",
       "<table border=\"1\" class=\"dataframe\">\n",
       "  <thead>\n",
       "    <tr style=\"text-align: right;\">\n",
       "      <th></th>\n",
       "      <th>airline_sentiment</th>\n",
       "      <th>text</th>\n",
       "    </tr>\n",
       "  </thead>\n",
       "  <tbody>\n",
       "    <tr>\n",
       "      <th>0</th>\n",
       "      <td>neutral</td>\n",
       "      <td>@VirginAmerica What @dhepburn said.</td>\n",
       "    </tr>\n",
       "    <tr>\n",
       "      <th>1</th>\n",
       "      <td>positive</td>\n",
       "      <td>@VirginAmerica plus you've added commercials to the experience... tacky.</td>\n",
       "    </tr>\n",
       "    <tr>\n",
       "      <th>2</th>\n",
       "      <td>neutral</td>\n",
       "      <td>@VirginAmerica I didn't today... Must mean I need to take another trip!</td>\n",
       "    </tr>\n",
       "    <tr>\n",
       "      <th>3</th>\n",
       "      <td>negative</td>\n",
       "      <td>@VirginAmerica it's really aggressive to blast obnoxious \"entertainment\" in your guests' faces &amp; they have little recourse</td>\n",
       "    </tr>\n",
       "    <tr>\n",
       "      <th>4</th>\n",
       "      <td>negative</td>\n",
       "      <td>@VirginAmerica and it's a really big bad thing about it</td>\n",
       "    </tr>\n",
       "    <tr>\n",
       "      <th>5</th>\n",
       "      <td>negative</td>\n",
       "      <td>@VirginAmerica seriously would pay $30 a flight for seats that didn't have this playing.\\nit's really the only bad thing about flying VA</td>\n",
       "    </tr>\n",
       "    <tr>\n",
       "      <th>6</th>\n",
       "      <td>positive</td>\n",
       "      <td>@VirginAmerica yes, nearly every time I fly VX this “ear worm” won’t go away :)</td>\n",
       "    </tr>\n",
       "    <tr>\n",
       "      <th>7</th>\n",
       "      <td>neutral</td>\n",
       "      <td>@VirginAmerica Really missed a prime opportunity for Men Without Hats parody, there.</td>\n",
       "    </tr>\n",
       "    <tr>\n",
       "      <th>8</th>\n",
       "      <td>positive</td>\n",
       "      <td>@virginamerica Well, I didn't…but NOW I DO! :-D</td>\n",
       "    </tr>\n",
       "    <tr>\n",
       "      <th>9</th>\n",
       "      <td>positive</td>\n",
       "      <td>@VirginAmerica it was amazing, and arrived an hour early. You're too good to me.</td>\n",
       "    </tr>\n",
       "    <tr>\n",
       "      <th>10</th>\n",
       "      <td>neutral</td>\n",
       "      <td>@VirginAmerica did you know that suicide is the second leading cause of death among teens 10-24</td>\n",
       "    </tr>\n",
       "    <tr>\n",
       "      <th>11</th>\n",
       "      <td>positive</td>\n",
       "      <td>@VirginAmerica I &lt;3 pretty graphics. so much better than minimal iconography. :D</td>\n",
       "    </tr>\n",
       "    <tr>\n",
       "      <th>12</th>\n",
       "      <td>positive</td>\n",
       "      <td>@VirginAmerica This is such a great deal! Already thinking about my 2nd trip to @Australia &amp; I haven't even gone on my 1st trip yet! ;p</td>\n",
       "    </tr>\n",
       "    <tr>\n",
       "      <th>13</th>\n",
       "      <td>positive</td>\n",
       "      <td>@VirginAmerica @virginmedia I'm flying your #fabulous #Seductive skies again! U take all the #stress away from travel</td>\n",
       "    </tr>\n",
       "    <tr>\n",
       "      <th>14</th>\n",
       "      <td>positive</td>\n",
       "      <td>@VirginAmerica Thanks!</td>\n",
       "    </tr>\n",
       "    <tr>\n",
       "      <th>15</th>\n",
       "      <td>negative</td>\n",
       "      <td>@VirginAmerica SFO-PDX schedule is still MIA.</td>\n",
       "    </tr>\n",
       "    <tr>\n",
       "      <th>16</th>\n",
       "      <td>positive</td>\n",
       "      <td>@VirginAmerica So excited for my first cross country flight LAX to MCO I've heard nothing but great things about Virgin America. #29DaysToGo</td>\n",
       "    </tr>\n",
       "    <tr>\n",
       "      <th>17</th>\n",
       "      <td>negative</td>\n",
       "      <td>@VirginAmerica  I flew from NYC to SFO last week and couldn't fully sit in my seat due to two large gentleman on either side of me. HELP!</td>\n",
       "    </tr>\n",
       "    <tr>\n",
       "      <th>18</th>\n",
       "      <td>positive</td>\n",
       "      <td>I ❤️ flying @VirginAmerica. ☺️👍</td>\n",
       "    </tr>\n",
       "    <tr>\n",
       "      <th>19</th>\n",
       "      <td>positive</td>\n",
       "      <td>@VirginAmerica you know what would be amazingly awesome? BOS-FLL PLEASE!!!!!!! I want to fly with only you.</td>\n",
       "    </tr>\n",
       "  </tbody>\n",
       "</table>\n",
       "</div>"
      ],
      "text/plain": [
       "   airline_sentiment                                                                                                                                          text\n",
       "0            neutral                                                                                                           @VirginAmerica What @dhepburn said.\n",
       "1           positive                                                                      @VirginAmerica plus you've added commercials to the experience... tacky.\n",
       "2            neutral                                                                       @VirginAmerica I didn't today... Must mean I need to take another trip!\n",
       "3           negative                    @VirginAmerica it's really aggressive to blast obnoxious \"entertainment\" in your guests' faces & they have little recourse\n",
       "4           negative                                                                                       @VirginAmerica and it's a really big bad thing about it\n",
       "5           negative      @VirginAmerica seriously would pay $30 a flight for seats that didn't have this playing.\\nit's really the only bad thing about flying VA\n",
       "6           positive                                                               @VirginAmerica yes, nearly every time I fly VX this “ear worm” won’t go away :)\n",
       "7            neutral                                                         @VirginAmerica Really missed a prime opportunity for Men Without Hats parody, there. \n",
       "8           positive                                                                                               @virginamerica Well, I didn't…but NOW I DO! :-D\n",
       "9           positive                                                              @VirginAmerica it was amazing, and arrived an hour early. You're too good to me.\n",
       "10           neutral                                               @VirginAmerica did you know that suicide is the second leading cause of death among teens 10-24\n",
       "11          positive                                                              @VirginAmerica I <3 pretty graphics. so much better than minimal iconography. :D\n",
       "12          positive       @VirginAmerica This is such a great deal! Already thinking about my 2nd trip to @Australia & I haven't even gone on my 1st trip yet! ;p\n",
       "13          positive                        @VirginAmerica @virginmedia I'm flying your #fabulous #Seductive skies again! U take all the #stress away from travel \n",
       "14          positive                                                                                                                        @VirginAmerica Thanks!\n",
       "15          negative                                                                                                 @VirginAmerica SFO-PDX schedule is still MIA.\n",
       "16          positive  @VirginAmerica So excited for my first cross country flight LAX to MCO I've heard nothing but great things about Virgin America. #29DaysToGo\n",
       "17          negative     @VirginAmerica  I flew from NYC to SFO last week and couldn't fully sit in my seat due to two large gentleman on either side of me. HELP!\n",
       "18          positive                                                                                                               I ❤️ flying @VirginAmerica. ☺️👍\n",
       "19          positive                                   @VirginAmerica you know what would be amazingly awesome? BOS-FLL PLEASE!!!!!!! I want to fly with only you."
      ]
     },
     "execution_count": 266,
     "metadata": {
      "tags": []
     },
     "output_type": "execute_result"
    }
   ],
   "source": [
    "df_data.head(20)"
   ]
  },
  {
   "cell_type": "markdown",
   "metadata": {
    "id": "1-45HXm5HxQT"
   },
   "source": [
    "# Remove contractions "
   ]
  },
  {
   "cell_type": "code",
   "execution_count": 267,
   "metadata": {
    "id": "0wiWfu8KlZws"
   },
   "outputs": [],
   "source": [
    "# Remove contractions \n",
    "def replace_contractions(text):   \n",
    "    return contractions.fix(text)"
   ]
  },
  {
   "cell_type": "code",
   "execution_count": 268,
   "metadata": {
    "id": "zi09w_4KlpSW"
   },
   "outputs": [],
   "source": [
    "for i, row in df_data.iterrows():\n",
    "   text = df_data.at[i, 'text']\n",
    "   new_txt = replace_contractions(text)\n",
    "   df_data.at[i,'text'] = new_txt"
   ]
  },
  {
   "cell_type": "code",
   "execution_count": 269,
   "metadata": {
    "colab": {
     "base_uri": "https://localhost:8080/",
     "height": 204
    },
    "id": "JYhdTnfelykb",
    "outputId": "d8740720-0bf7-4fff-afd6-059efc7beb76"
   },
   "outputs": [
    {
     "data": {
      "text/html": [
       "<div>\n",
       "<style scoped>\n",
       "    .dataframe tbody tr th:only-of-type {\n",
       "        vertical-align: middle;\n",
       "    }\n",
       "\n",
       "    .dataframe tbody tr th {\n",
       "        vertical-align: top;\n",
       "    }\n",
       "\n",
       "    .dataframe thead th {\n",
       "        text-align: right;\n",
       "    }\n",
       "</style>\n",
       "<table border=\"1\" class=\"dataframe\">\n",
       "  <thead>\n",
       "    <tr style=\"text-align: right;\">\n",
       "      <th></th>\n",
       "      <th>airline_sentiment</th>\n",
       "      <th>text</th>\n",
       "    </tr>\n",
       "  </thead>\n",
       "  <tbody>\n",
       "    <tr>\n",
       "      <th>0</th>\n",
       "      <td>neutral</td>\n",
       "      <td>@VirginAmerica What @dhepburn said.</td>\n",
       "    </tr>\n",
       "    <tr>\n",
       "      <th>1</th>\n",
       "      <td>positive</td>\n",
       "      <td>@VirginAmerica plus you have added commercials to the experience... tacky.</td>\n",
       "    </tr>\n",
       "    <tr>\n",
       "      <th>2</th>\n",
       "      <td>neutral</td>\n",
       "      <td>@VirginAmerica I did not today... Must mean I need to take another trip!</td>\n",
       "    </tr>\n",
       "    <tr>\n",
       "      <th>3</th>\n",
       "      <td>negative</td>\n",
       "      <td>@VirginAmerica it is really aggressive to blast obnoxious \"entertainment\" in your guests' faces &amp; they have little recourse</td>\n",
       "    </tr>\n",
       "    <tr>\n",
       "      <th>4</th>\n",
       "      <td>negative</td>\n",
       "      <td>@VirginAmerica and it is a really big bad thing about it</td>\n",
       "    </tr>\n",
       "  </tbody>\n",
       "</table>\n",
       "</div>"
      ],
      "text/plain": [
       "  airline_sentiment                                                                                                                         text\n",
       "0           neutral                                                                                          @VirginAmerica What @dhepburn said.\n",
       "1          positive                                                   @VirginAmerica plus you have added commercials to the experience... tacky.\n",
       "2           neutral                                                     @VirginAmerica I did not today... Must mean I need to take another trip!\n",
       "3          negative  @VirginAmerica it is really aggressive to blast obnoxious \"entertainment\" in your guests' faces & they have little recourse\n",
       "4          negative                                                                     @VirginAmerica and it is a really big bad thing about it"
      ]
     },
     "execution_count": 269,
     "metadata": {
      "tags": []
     },
     "output_type": "execute_result"
    }
   ],
   "source": [
    "df_data.head()"
   ]
  },
  {
   "cell_type": "markdown",
   "metadata": {
    "id": "HKw4NQJFia44"
   },
   "source": [
    "# b. Tokenization.\n"
   ]
  },
  {
   "cell_type": "code",
   "execution_count": 270,
   "metadata": {
    "id": "NAjm4hX1iEcp"
   },
   "outputs": [],
   "source": [
    "def tokenize_txt(txt):\n",
    "    words = nltk.word_tokenize(text)\n",
    "    return words"
   ]
  },
  {
   "cell_type": "code",
   "execution_count": 271,
   "metadata": {
    "id": "_2h2RQ2HlFvK"
   },
   "outputs": [],
   "source": [
    "for i, row in df_data.iterrows():\n",
    "   text = df_data.at[i, 'text']\n",
    "   new_txt = tokenize_txt(text)\n",
    "   df_data.at[i,'text'] = new_txt"
   ]
  },
  {
   "cell_type": "code",
   "execution_count": 272,
   "metadata": {
    "colab": {
     "base_uri": "https://localhost:8080/",
     "height": 204
    },
    "id": "HKdKWrV3lKsC",
    "outputId": "f94ef328-7626-4f39-c9b7-37edbbb5f3bd"
   },
   "outputs": [
    {
     "data": {
      "text/html": [
       "<div>\n",
       "<style scoped>\n",
       "    .dataframe tbody tr th:only-of-type {\n",
       "        vertical-align: middle;\n",
       "    }\n",
       "\n",
       "    .dataframe tbody tr th {\n",
       "        vertical-align: top;\n",
       "    }\n",
       "\n",
       "    .dataframe thead th {\n",
       "        text-align: right;\n",
       "    }\n",
       "</style>\n",
       "<table border=\"1\" class=\"dataframe\">\n",
       "  <thead>\n",
       "    <tr style=\"text-align: right;\">\n",
       "      <th></th>\n",
       "      <th>airline_sentiment</th>\n",
       "      <th>text</th>\n",
       "    </tr>\n",
       "  </thead>\n",
       "  <tbody>\n",
       "    <tr>\n",
       "      <th>0</th>\n",
       "      <td>neutral</td>\n",
       "      <td>[@, VirginAmerica, What, @, dhepburn, said, .]</td>\n",
       "    </tr>\n",
       "    <tr>\n",
       "      <th>1</th>\n",
       "      <td>positive</td>\n",
       "      <td>[@, VirginAmerica, plus, you, have, added, commercials, to, the, experience, ..., tacky, .]</td>\n",
       "    </tr>\n",
       "    <tr>\n",
       "      <th>2</th>\n",
       "      <td>neutral</td>\n",
       "      <td>[@, VirginAmerica, I, did, not, today, ..., Must, mean, I, need, to, take, another, trip, !]</td>\n",
       "    </tr>\n",
       "    <tr>\n",
       "      <th>3</th>\n",
       "      <td>negative</td>\n",
       "      <td>[@, VirginAmerica, it, is, really, aggressive, to, blast, obnoxious, ``, entertainment, '', in, your, guests, ', faces, &amp;, they, have, little, recourse]</td>\n",
       "    </tr>\n",
       "    <tr>\n",
       "      <th>4</th>\n",
       "      <td>negative</td>\n",
       "      <td>[@, VirginAmerica, and, it, is, a, really, big, bad, thing, about, it]</td>\n",
       "    </tr>\n",
       "  </tbody>\n",
       "</table>\n",
       "</div>"
      ],
      "text/plain": [
       "  airline_sentiment                                                                                                                                                      text\n",
       "0           neutral                                                                                                            [@, VirginAmerica, What, @, dhepburn, said, .]\n",
       "1          positive                                                               [@, VirginAmerica, plus, you, have, added, commercials, to, the, experience, ..., tacky, .]\n",
       "2           neutral                                                              [@, VirginAmerica, I, did, not, today, ..., Must, mean, I, need, to, take, another, trip, !]\n",
       "3          negative  [@, VirginAmerica, it, is, really, aggressive, to, blast, obnoxious, ``, entertainment, '', in, your, guests, ', faces, &, they, have, little, recourse]\n",
       "4          negative                                                                                    [@, VirginAmerica, and, it, is, a, really, big, bad, thing, about, it]"
      ]
     },
     "execution_count": 272,
     "metadata": {
      "tags": []
     },
     "output_type": "execute_result"
    }
   ],
   "source": [
    "df_data.head()"
   ]
  },
  {
   "cell_type": "markdown",
   "metadata": {
    "id": "TvbwPugkieI3"
   },
   "source": [
    "# c. Function to Remove the numbers."
   ]
  },
  {
   "cell_type": "code",
   "execution_count": 273,
   "metadata": {
    "id": "dkRv-wQEmy0u"
   },
   "outputs": [],
   "source": [
    "def remove_numbers(txt):\n",
    "  pattern= r'[0-9]'\n",
    "  new_words=[]\n",
    "  for word in txt:\n",
    "    new_words.append(re.sub(pattern,'',word))\n",
    "  return new_words\n"
   ]
  },
  {
   "cell_type": "markdown",
   "metadata": {
    "id": "dw2Ns_Suig7g"
   },
   "source": [
    "# d. Removal of Special Characters and Punctuations."
   ]
  },
  {
   "cell_type": "code",
   "execution_count": 274,
   "metadata": {
    "id": "HzCXRotOopZV"
   },
   "outputs": [],
   "source": [
    "#function to Convert to  Ascii \n",
    "def convert_Ascii(txt):\n",
    "  new_words = []\n",
    "  for word in txt:\n",
    "      new_word = unicodedata.normalize('NFKD', word).encode('ascii', 'ignore').decode('utf-8', 'ignore')\n",
    "      new_words.append(new_word)\n",
    "  return new_words\n",
    "\n",
    "  "
   ]
  },
  {
   "cell_type": "code",
   "execution_count": 275,
   "metadata": {
    "id": "99Xflr5Op181"
   },
   "outputs": [],
   "source": [
    "# Function to   Remove punctuation  \n",
    "def remove_punctuation(txt):\n",
    "  pattern= r'[^\\w\\s]'\n",
    "  new_words=[]\n",
    "  for word in txt:\n",
    "    new_word = re.sub(pattern,'', word)\n",
    "    if new_word != '':\n",
    "      new_words.append(new_word) \n",
    "  return new_words\n",
    "  "
   ]
  },
  {
   "cell_type": "code",
   "execution_count": 276,
   "metadata": {
    "id": "QO0zqMbvohYq"
   },
   "outputs": [],
   "source": [
    "# Function to   Remove Special characters \n",
    "def remove_specialchars(txt):\n",
    "  pattern= r'[^a-zA-Z\\s]'\n",
    "  new_words=[]\n",
    "  for word in txt:\n",
    "    new_words.append(re.sub(pattern,'',word))\n",
    "  return new_words"
   ]
  },
  {
   "cell_type": "markdown",
   "metadata": {
    "id": "HquHxtshilt5"
   },
   "source": [
    "# e. Conversion to lowercase."
   ]
  },
  {
   "cell_type": "code",
   "execution_count": 277,
   "metadata": {
    "id": "oJNJlZbVirCF"
   },
   "outputs": [],
   "source": [
    "# Function to  convert to lower\n",
    "def convert_lower(txt):\n",
    "  new_words=[]\n",
    "  for word in txt:\n",
    "    new_words.append(word.lower())\n",
    "  return new_words"
   ]
  },
  {
   "cell_type": "markdown",
   "metadata": {
    "id": "FTrja4b3KKAi"
   },
   "source": [
    "# Function to remove stopwords"
   ]
  },
  {
   "cell_type": "code",
   "execution_count": 278,
   "metadata": {
    "id": "Iv4SoLqXKcSD"
   },
   "outputs": [],
   "source": [
    "stopw = stopwords.words('english')\n",
    "\n",
    "customlist = ['no','not', \"couldn't\", 'didn', \"didn't\", 'doesn', \"doesn't\", 'hadn', \"hadn't\", 'hasn',\n",
    "        \"hasn't\", 'haven', \"haven't\", 'isn', \"isn't\", 'ma', 'mightn', \"mightn't\", 'mustn',\n",
    "        \"mustn't\", 'needn', \"needn't\", 'shan', \"shan't\", 'shouldn', \"shouldn't\", 'wasn',\n",
    "        \"wasn't\", 'weren', \"weren't\", 'won', \"won't\", 'wouldn', \"wouldn't\"]\n",
    "\n",
    "# Custom stopwordlist  so that it will not remove the negative sentimet words\n",
    "\n",
    "stopw = list(set(stopw) - set(customlist))                           "
   ]
  },
  {
   "cell_type": "code",
   "execution_count": 279,
   "metadata": {
    "id": "2ztu654sKShP"
   },
   "outputs": [],
   "source": [
    "def remove_stopwords(words):\n",
    "    \"\"\"Remove stop words from list of tokenized words\"\"\"\n",
    "    new_words = []\n",
    "    for word in words:\n",
    "        if word not in stopw:\n",
    "            new_words.append(word)\n",
    "    return new_words"
   ]
  },
  {
   "cell_type": "markdown",
   "metadata": {
    "id": "M1O03S7li1oS"
   },
   "source": [
    "\n",
    "# f. Lemmatization"
   ]
  },
  {
   "cell_type": "code",
   "execution_count": 280,
   "metadata": {
    "id": "-eFs1UIkGd3w"
   },
   "outputs": [],
   "source": [
    "def lemmatize_words(words):\n",
    "    lemmatizer = WordNetLemmatizer()\n",
    "    new_words = []\n",
    "    for word in words:\n",
    "      new_words.append(lemmatizer.lemmatize(word, pos='v'))\n",
    "    return new_words"
   ]
  },
  {
   "cell_type": "markdown",
   "metadata": {
    "id": "k8EatQMgiy_3"
   },
   "source": [
    "# g. Join the words in the list to convert back to text string in the dataframe"
   ]
  },
  {
   "cell_type": "markdown",
   "metadata": {
    "id": "7l8HzBSTIOT8"
   },
   "source": [
    "Define Function to Apply all the preprocessing Steps "
   ]
  },
  {
   "cell_type": "code",
   "execution_count": 281,
   "metadata": {
    "id": "j1zFP6ZHHfWw"
   },
   "outputs": [],
   "source": [
    "def normalize(words):\n",
    "    words = remove_numbers(words)\n",
    "    words = convert_lower(words)\n",
    "    words = convert_Ascii(words)\n",
    "    words = remove_punctuation(words)\n",
    "    words= remove_specialchars(words)\n",
    "    words = remove_stopwords(words)\n",
    "    words = lemmatize_words(words)\n",
    "    return ' '.join(words)"
   ]
  },
  {
   "cell_type": "code",
   "execution_count": 282,
   "metadata": {
    "id": "0zdcwKOINNCe"
   },
   "outputs": [],
   "source": [
    "df_data['text'] = df_data.apply(lambda row: normalize(row['text']), axis=1)\n"
   ]
  },
  {
   "cell_type": "markdown",
   "metadata": {
    "id": "le9O43l3N349"
   },
   "source": [
    "# h. Print first 5 rows of data after pre-processing."
   ]
  },
  {
   "cell_type": "code",
   "execution_count": 283,
   "metadata": {
    "colab": {
     "base_uri": "https://localhost:8080/",
     "height": 204
    },
    "id": "uGfri2xWOKkf",
    "outputId": "18c538a5-b20b-4bd5-c609-c3a033c1181c"
   },
   "outputs": [
    {
     "data": {
      "text/html": [
       "<div>\n",
       "<style scoped>\n",
       "    .dataframe tbody tr th:only-of-type {\n",
       "        vertical-align: middle;\n",
       "    }\n",
       "\n",
       "    .dataframe tbody tr th {\n",
       "        vertical-align: top;\n",
       "    }\n",
       "\n",
       "    .dataframe thead th {\n",
       "        text-align: right;\n",
       "    }\n",
       "</style>\n",
       "<table border=\"1\" class=\"dataframe\">\n",
       "  <thead>\n",
       "    <tr style=\"text-align: right;\">\n",
       "      <th></th>\n",
       "      <th>airline_sentiment</th>\n",
       "      <th>text</th>\n",
       "    </tr>\n",
       "  </thead>\n",
       "  <tbody>\n",
       "    <tr>\n",
       "      <th>0</th>\n",
       "      <td>neutral</td>\n",
       "      <td>virginamerica dhepburn say</td>\n",
       "    </tr>\n",
       "    <tr>\n",
       "      <th>1</th>\n",
       "      <td>positive</td>\n",
       "      <td>virginamerica plus add commercials experience tacky</td>\n",
       "    </tr>\n",
       "    <tr>\n",
       "      <th>2</th>\n",
       "      <td>neutral</td>\n",
       "      <td>virginamerica not today must mean need take another trip</td>\n",
       "    </tr>\n",
       "    <tr>\n",
       "      <th>3</th>\n",
       "      <td>negative</td>\n",
       "      <td>virginamerica really aggressive blast obnoxious entertainment guests face little recourse</td>\n",
       "    </tr>\n",
       "    <tr>\n",
       "      <th>4</th>\n",
       "      <td>negative</td>\n",
       "      <td>virginamerica really big bad thing</td>\n",
       "    </tr>\n",
       "  </tbody>\n",
       "</table>\n",
       "</div>"
      ],
      "text/plain": [
       "  airline_sentiment                                                                                       text\n",
       "0           neutral                                                                 virginamerica dhepburn say\n",
       "1          positive                                        virginamerica plus add commercials experience tacky\n",
       "2           neutral                                   virginamerica not today must mean need take another trip\n",
       "3          negative  virginamerica really aggressive blast obnoxious entertainment guests face little recourse\n",
       "4          negative                                                         virginamerica really big bad thing"
      ]
     },
     "execution_count": 283,
     "metadata": {
      "tags": []
     },
     "output_type": "execute_result"
    }
   ],
   "source": [
    "df_data.head()"
   ]
  },
  {
   "cell_type": "code",
   "execution_count": 284,
   "metadata": {
    "id": "mejP1OYjVS4c"
   },
   "outputs": [],
   "source": [
    "#Replace Y String variable with integre values   \n",
    "replaceStruct={\"airline_sentiment\":{\"neutral\":1,\"positive\":2,\"negative\":0}\n",
    "              }\n",
    "\n",
    "df_data=df_data.replace(replaceStruct)"
   ]
  },
  {
   "cell_type": "code",
   "execution_count": 285,
   "metadata": {
    "colab": {
     "base_uri": "https://localhost:8080/",
     "height": 204
    },
    "id": "cvgizaZwV2E9",
    "outputId": "3c850372-e4da-48f1-9a41-9d57e843492c"
   },
   "outputs": [
    {
     "data": {
      "text/html": [
       "<div>\n",
       "<style scoped>\n",
       "    .dataframe tbody tr th:only-of-type {\n",
       "        vertical-align: middle;\n",
       "    }\n",
       "\n",
       "    .dataframe tbody tr th {\n",
       "        vertical-align: top;\n",
       "    }\n",
       "\n",
       "    .dataframe thead th {\n",
       "        text-align: right;\n",
       "    }\n",
       "</style>\n",
       "<table border=\"1\" class=\"dataframe\">\n",
       "  <thead>\n",
       "    <tr style=\"text-align: right;\">\n",
       "      <th></th>\n",
       "      <th>airline_sentiment</th>\n",
       "      <th>text</th>\n",
       "    </tr>\n",
       "  </thead>\n",
       "  <tbody>\n",
       "    <tr>\n",
       "      <th>0</th>\n",
       "      <td>1</td>\n",
       "      <td>virginamerica dhepburn say</td>\n",
       "    </tr>\n",
       "    <tr>\n",
       "      <th>1</th>\n",
       "      <td>2</td>\n",
       "      <td>virginamerica plus add commercials experience tacky</td>\n",
       "    </tr>\n",
       "    <tr>\n",
       "      <th>2</th>\n",
       "      <td>1</td>\n",
       "      <td>virginamerica not today must mean need take another trip</td>\n",
       "    </tr>\n",
       "    <tr>\n",
       "      <th>3</th>\n",
       "      <td>0</td>\n",
       "      <td>virginamerica really aggressive blast obnoxious entertainment guests face little recourse</td>\n",
       "    </tr>\n",
       "    <tr>\n",
       "      <th>4</th>\n",
       "      <td>0</td>\n",
       "      <td>virginamerica really big bad thing</td>\n",
       "    </tr>\n",
       "  </tbody>\n",
       "</table>\n",
       "</div>"
      ],
      "text/plain": [
       "   airline_sentiment                                                                                       text\n",
       "0                  1                                                                 virginamerica dhepburn say\n",
       "1                  2                                        virginamerica plus add commercials experience tacky\n",
       "2                  1                                   virginamerica not today must mean need take another trip\n",
       "3                  0  virginamerica really aggressive blast obnoxious entertainment guests face little recourse\n",
       "4                  0                                                         virginamerica really big bad thing"
      ]
     },
     "execution_count": 285,
     "metadata": {
      "tags": []
     },
     "output_type": "execute_result"
    }
   ],
   "source": [
    "df_data.head()"
   ]
  },
  {
   "cell_type": "code",
   "execution_count": 286,
   "metadata": {
    "colab": {
     "base_uri": "https://localhost:8080/"
    },
    "id": "NGdMGYQEXgjc",
    "outputId": "1812a1d5-7dc9-4b73-c7cf-db8f86f699d5"
   },
   "outputs": [
    {
     "data": {
      "text/plain": [
       "airline_sentiment     int64\n",
       "text                 object\n",
       "dtype: object"
      ]
     },
     "execution_count": 286,
     "metadata": {
      "tags": []
     },
     "output_type": "execute_result"
    }
   ],
   "source": [
    "df_data.dtypes"
   ]
  },
  {
   "cell_type": "markdown",
   "metadata": {
    "id": "puDLzmhKYIa1"
   },
   "source": [
    "# Vectorization  : Count Vectorizer"
   ]
  },
  {
   "cell_type": "code",
   "execution_count": 287,
   "metadata": {
    "id": "TVpesyNgXzqH"
   },
   "outputs": [],
   "source": [
    "vectorizer = CountVectorizer()               \n",
    "data_CountV= vectorizer.fit_transform(df_data['text'])\n",
    "data_CountV = data_CountV.toarray()     "
   ]
  },
  {
   "cell_type": "code",
   "execution_count": 288,
   "metadata": {
    "colab": {
     "base_uri": "https://localhost:8080/"
    },
    "id": "8GV2N5p-YlPF",
    "outputId": "4ebbc72c-404a-4169-bc9f-68711a4f77b5"
   },
   "outputs": [
    {
     "data": {
      "text/plain": [
       "(14640, 10870)"
      ]
     },
     "execution_count": 288,
     "metadata": {
      "tags": []
     },
     "output_type": "execute_result"
    }
   ],
   "source": [
    "data_CountV.shape"
   ]
  },
  {
   "cell_type": "code",
   "execution_count": 289,
   "metadata": {
    "colab": {
     "base_uri": "https://localhost:8080/"
    },
    "id": "TXkJIcROXqVW",
    "outputId": "fa51a1fd-5295-4814-b1ea-47ecd4006708"
   },
   "outputs": [
    {
     "name": "stdout",
     "output_type": "stream",
     "text": [
      "1, 1, 1, 1, 1, 1, 1, 1, 1, 1, 1, 1, 1, 1\n"
     ]
    }
   ],
   "source": [
    "\n",
    "print(\", \".join([str(l) for l in data_CountV[900] if l !=0 ]))"
   ]
  },
  {
   "cell_type": "markdown",
   "metadata": {
    "id": "4agaOnRMY0u8"
   },
   "source": [
    "# Vectorization  : TFIDF Vectorizer"
   ]
  },
  {
   "cell_type": "code",
   "execution_count": 290,
   "metadata": {
    "id": "M45AqXQWY4ga"
   },
   "outputs": [],
   "source": [
    "tfvectorizer = TfidfVectorizer()               \n",
    "data_TfIdfV= tfvectorizer.fit_transform(df_data['text'])\n",
    "data_TfIdfV = data_TfIdfV.toarray()     "
   ]
  },
  {
   "cell_type": "code",
   "execution_count": 291,
   "metadata": {
    "colab": {
     "base_uri": "https://localhost:8080/"
    },
    "id": "-oklv-HKZEso",
    "outputId": "5f8861be-fb6b-4b8c-c760-e6e686be5083"
   },
   "outputs": [
    {
     "data": {
      "text/plain": [
       "(14640, 10870)"
      ]
     },
     "execution_count": 291,
     "metadata": {
      "tags": []
     },
     "output_type": "execute_result"
    }
   ],
   "source": [
    "data_TfIdfV.shape"
   ]
  },
  {
   "cell_type": "code",
   "execution_count": 292,
   "metadata": {
    "colab": {
     "base_uri": "https://localhost:8080/"
    },
    "id": "kyRMdIVxZsuB",
    "outputId": "b6de8fb7-539a-4a7a-df55-1f36ebf5d6b5"
   },
   "outputs": [
    {
     "name": "stdout",
     "output_type": "stream",
     "text": [
      "0.40045351572527765, 0.14855119233552272, 0.09374619659169588, 0.15997708182432624, 0.19967543323983372, 0.19747318892108642, 0.27728355521454423, 0.38404991799337623, 0.38404991799337623, 0.35600778245190373, 0.22292108652739126, 0.09416092344120698, 0.19303692190467198, 0.3314858009204673\n"
     ]
    }
   ],
   "source": [
    "print(\", \".join([str(l) for l in data_TfIdfV[900] if l !=0 ]))"
   ]
  },
  {
   "cell_type": "markdown",
   "metadata": {
    "id": "XdZM0_dbhM9a"
   },
   "source": [
    "# Test Train Split For TFIDF   With Max Features Limited to 2000"
   ]
  },
  {
   "cell_type": "code",
   "execution_count": 293,
   "metadata": {
    "id": "-lAzqMzViB2Z"
   },
   "outputs": [],
   "source": [
    "tfvectorizer = TfidfVectorizer(max_features=2000)               \n",
    "data_TfIdfV1000= tfvectorizer.fit_transform(df_data['text'])\n",
    "data_TfIdfV1000 = data_TfIdfV1000.toarray()     "
   ]
  },
  {
   "cell_type": "code",
   "execution_count": 294,
   "metadata": {
    "id": "6aqiOxVAhODh"
   },
   "outputs": [],
   "source": [
    "Y = df_data['airline_sentiment']\n",
    "X =data_TfIdfV1000\n",
    "from sklearn.model_selection import train_test_split\n",
    "\n",
    "X_train, X_test, y_train, y_test = train_test_split(X, Y, test_size=0.3, random_state=2)\n",
    "X_val, X_test, y_val, y_test = train_test_split(X_test, y_test, test_size=0.5, random_state=2)"
   ]
  },
  {
   "cell_type": "code",
   "execution_count": 295,
   "metadata": {
    "colab": {
     "base_uri": "https://localhost:8080/"
    },
    "id": "08qFa2KkhZpT",
    "outputId": "1b874dee-9bfc-4e3b-caff-dec970253ae7"
   },
   "outputs": [
    {
     "name": "stdout",
     "output_type": "stream",
     "text": [
      "RandomForestClassifier(bootstrap=True, ccp_alpha=0.0, class_weight=None,\n",
      "                       criterion='gini', max_depth=None, max_features='auto',\n",
      "                       max_leaf_nodes=None, max_samples=None,\n",
      "                       min_impurity_decrease=0.0, min_impurity_split=None,\n",
      "                       min_samples_leaf=1, min_samples_split=2,\n",
      "                       min_weight_fraction_leaf=0.0, n_estimators=20, n_jobs=4,\n",
      "                       oob_score=False, random_state=None, verbose=0,\n",
      "                       warm_start=False)\n",
      "0.7094624325446244\n"
     ]
    }
   ],
   "source": [
    "from sklearn.ensemble import RandomForestClassifier\n",
    "from sklearn.model_selection import cross_val_score\n",
    "from sklearn.metrics import confusion_matrix, recall_score, precision_score, f1_score\n",
    "\n",
    "forest = RandomForestClassifier(n_estimators=20, n_jobs=4)\n",
    "\n",
    "forest = forest.fit(X_train, y_train)\n",
    "\n",
    "print(forest)\n",
    "\n",
    "print(np.mean(cross_val_score(forest, X_val, y_val, cv=10)))"
   ]
  },
  {
   "cell_type": "code",
   "execution_count": 296,
   "metadata": {
    "colab": {
     "base_uri": "https://localhost:8080/"
    },
    "id": "8Ghj-o1Qi4cd",
    "outputId": "7957d360-a295-423c-b725-f16197b429dd"
   },
   "outputs": [
    {
     "name": "stdout",
     "output_type": "stream",
     "text": [
      "Accuracy >>  0.7668488160291439\n"
     ]
    }
   ],
   "source": [
    "#testing score \n",
    "test_score =forest.score(X_test,y_test)\n",
    "print(\"Accuracy >> \",test_score)"
   ]
  },
  {
   "cell_type": "code",
   "execution_count": 297,
   "metadata": {
    "id": "evjXHFXWii_j"
   },
   "outputs": [],
   "source": [
    "y_pred = forest.predict(X_test)"
   ]
  },
  {
   "cell_type": "code",
   "execution_count": 298,
   "metadata": {
    "colab": {
     "base_uri": "https://localhost:8080/"
    },
    "id": "iiiF4JmA_uF-",
    "outputId": "c7d06391-82f0-4a86-f798-3f2cfcd56214"
   },
   "outputs": [
    {
     "name": "stdout",
     "output_type": "stream",
     "text": [
      "0.7668488160291439\n",
      "Recall >>  0.7668488160291439\n",
      "Precision >>  0.757766119870598\n",
      "F1 Score >>  0.7497877587563472\n"
     ]
    }
   ],
   "source": [
    "accuracy = metrics.accuracy_score(y_test, y_pred)\n",
    "print(accuracy)\n",
    "# Recall\n",
    "print(\"Recall >> \",recall_score(y_test,y_pred,average='weighted'))\n",
    "# Precision\n",
    "print(\"Precision >> \",precision_score(y_test,y_pred,average='weighted'))\n",
    "#F1 Score\n",
    "print(\"F1 Score >> \",f1_score(y_test,y_pred,average='weighted'))"
   ]
  },
  {
   "cell_type": "code",
   "execution_count": 299,
   "metadata": {
    "colab": {
     "base_uri": "https://localhost:8080/"
    },
    "id": "PCuAecipHdAI",
    "outputId": "f86fe803-66b9-43e6-b99d-fd8caa69f19b"
   },
   "outputs": [
    {
     "name": "stdout",
     "output_type": "stream",
     "text": [
      "[0.94139466 0.45020747 0.54098361] [0.78527228 0.68238994 0.75572519]\n"
     ]
    }
   ],
   "source": [
    "\n",
    "#Recall and Precisicon for   each classes\n",
    "cm = confusion_matrix(y_test, y_pred)\n",
    "recall = np.diag(cm) / np.sum(cm, axis = 1)\n",
    "precision = np.diag(cm) / np.sum(cm, axis = 0)\n",
    "\n",
    "print(recall,precision)\n"
   ]
  },
  {
   "cell_type": "markdown",
   "metadata": {
    "id": "eB5cZ-a0eEso"
   },
   "source": [
    "# Confusion matrix"
   ]
  },
  {
   "cell_type": "code",
   "execution_count": 300,
   "metadata": {
    "id": "ng_BRQY7edT_"
   },
   "outputs": [],
   "source": [
    "def draw_cm( actual, predicted ):\n",
    "    cm = metrics.confusion_matrix( actual, predicted)\n",
    "    sns.heatmap(cm, annot=True,  fmt='.2f', xticklabels = [0,1,2] , yticklabels = [0,1,2] ,cmap='Greens')\n",
    "    plt.ylabel('Observed')\n",
    "    plt.xlabel('Predicted')\n",
    "    plt.show()"
   ]
  },
  {
   "cell_type": "code",
   "execution_count": 301,
   "metadata": {
    "colab": {
     "base_uri": "https://localhost:8080/",
     "height": 279
    },
    "id": "T8rwimzjeyTh",
    "outputId": "bcdf9af2-08e7-45d4-a39f-4405bd73730e"
   },
   "outputs": [
    {
     "data": {
      "image/png": "[encoded data removed]",
      "text/plain": [
       "<Figure size 432x288 with 2 Axes>"
      ]
     },
     "metadata": {
      "needs_background": "light",
      "tags": []
     },
     "output_type": "display_data"
    }
   ],
   "source": [
    "draw_cm(y_test,y_pred)"
   ]
  },
  {
   "cell_type": "markdown",
   "metadata": {
    "id": "95WMymTnihyQ"
   },
   "source": [
    "# Naive Bayes  on TFIDF Vectorized Data"
   ]
  },
  {
   "cell_type": "code",
   "execution_count": 302,
   "metadata": {
    "colab": {
     "base_uri": "https://localhost:8080/"
    },
    "id": "MW92uyvditoq",
    "outputId": "d7097fe6-039d-4108-ddc9-a959d7fadb49"
   },
   "outputs": [
    {
     "name": "stdout",
     "output_type": "stream",
     "text": [
      "0.7358834244080146\n"
     ]
    }
   ],
   "source": [
    "from sklearn import naive_bayes\n",
    "classifier = naive_bayes.MultinomialNB()\n",
    "classifier.fit(X_train, y_train)\n",
    "\n",
    "predicted = classifier.predict(X_test)\n",
    "predicted_prob = classifier.predict_proba(X_test)\n",
    "accuracy = metrics.accuracy_score(y_test, predicted)\n",
    "print(accuracy)"
   ]
  },
  {
   "cell_type": "code",
   "execution_count": 303,
   "metadata": {
    "colab": {
     "base_uri": "https://localhost:8080/",
     "height": 279
    },
    "id": "1kXtg4oIjv-V",
    "outputId": "1b5a0d90-f8ce-488d-ec2c-79c603966ab3"
   },
   "outputs": [
    {
     "data": {
      "image/png": "[encoded data removed]",
      "text/plain": [
       "<Figure size 432x288 with 2 Axes>"
      ]
     },
     "metadata": {
      "needs_background": "light",
      "tags": []
     },
     "output_type": "display_data"
    }
   ],
   "source": [
    "draw_cm(y_test,predicted)"
   ]
  },
  {
   "cell_type": "code",
   "execution_count": 304,
   "metadata": {
    "colab": {
     "base_uri": "https://localhost:8080/"
    },
    "id": "WG9hdJUkBpL_",
    "outputId": "38ef1e80-b064-4985-bb0f-b030c03a34b6"
   },
   "outputs": [
    {
     "name": "stdout",
     "output_type": "stream",
     "text": [
      "0.7358834244080146\n",
      "Recall >>  0.7358834244080146\n",
      "Precision >>  0.7464806405484148\n",
      "F1 Score >>  0.7010608438120485\n"
     ]
    }
   ],
   "source": [
    "accuracy = metrics.accuracy_score(y_test, predicted)\n",
    "print(accuracy)\n",
    "# Recall\n",
    "print(\"Recall >> \",recall_score(y_test,predicted,average='weighted'))\n",
    "# Precision\n",
    "print(\"Precision >> \",precision_score(y_test,predicted,average='weighted'))\n",
    "#F1 Score\n",
    "print(\"F1 Score >> \",f1_score(y_test,predicted,average='weighted'))"
   ]
  },
  {
   "cell_type": "code",
   "execution_count": 305,
   "metadata": {
    "colab": {
     "base_uri": "https://localhost:8080/"
    },
    "id": "QE2vXmrnJn4n",
    "outputId": "4f15308d-fa4e-413c-9310-7aacdb95ad6e"
   },
   "outputs": [
    {
     "name": "stdout",
     "output_type": "stream",
     "text": [
      "[0.97032641 0.32365145 0.41530055] [0.72586016 0.71889401 0.85875706]\n"
     ]
    }
   ],
   "source": [
    "#Recall and Precisicon for   each classes\n",
    "\n",
    "cm = confusion_matrix(y_test, predicted)\n",
    "recall = np.diag(cm) / np.sum(cm, axis = 1)\n",
    "precision = np.diag(cm) / np.sum(cm, axis = 0)\n",
    "\n",
    "print(recall,precision)"
   ]
  },
  {
   "cell_type": "markdown",
   "metadata": {
    "id": "X3LjrZavWRHV"
   },
   "source": [
    "# Test Train Split For CountVectorizer With Max Features Limited to 2000"
   ]
  },
  {
   "cell_type": "code",
   "execution_count": 306,
   "metadata": {
    "id": "a2pcb2AbWYzd"
   },
   "outputs": [],
   "source": [
    "vectorizer = CountVectorizer(max_features=2000)               \n",
    "data_CountV1000= vectorizer.fit_transform(df_data['text'])\n",
    "data_CountV1000 = data_CountV1000.toarray()    "
   ]
  },
  {
   "cell_type": "code",
   "execution_count": 307,
   "metadata": {
    "id": "vugNVtDMWhfe"
   },
   "outputs": [],
   "source": [
    "Y = df_data['airline_sentiment']\n",
    "X =data_CountV1000\n",
    "from sklearn.model_selection import train_test_split\n",
    "\n",
    "X_train, X_test, y_train, y_test = train_test_split(X, Y, test_size=0.3, random_state=2)\n",
    "X_val, X_test, y_val, y_test = train_test_split(X_test, y_test, test_size=0.5, random_state=2)"
   ]
  },
  {
   "cell_type": "code",
   "execution_count": 308,
   "metadata": {
    "colab": {
     "base_uri": "https://localhost:8080/"
    },
    "id": "gls7lfJtXB4E",
    "outputId": "2ffb3b20-0628-4637-ae22-cb58f2f304f2"
   },
   "outputs": [
    {
     "name": "stdout",
     "output_type": "stream",
     "text": [
      "RandomForestClassifier(bootstrap=True, ccp_alpha=0.0, class_weight=None,\n",
      "                       criterion='gini', max_depth=None, max_features='auto',\n",
      "                       max_leaf_nodes=None, max_samples=None,\n",
      "                       min_impurity_decrease=0.0, min_impurity_split=None,\n",
      "                       min_samples_leaf=1, min_samples_split=2,\n",
      "                       min_weight_fraction_leaf=0.0, n_estimators=20, n_jobs=4,\n",
      "                       oob_score=False, random_state=None, verbose=0,\n",
      "                       warm_start=False)\n",
      "0.7117517642175176\n"
     ]
    }
   ],
   "source": [
    "\n",
    "forest_Count = RandomForestClassifier(n_estimators=20, n_jobs=4)\n",
    "\n",
    "forest_Count = forest.fit(X_train, y_train)\n",
    "\n",
    "print(forest_Count)\n",
    "\n",
    "print(np.mean(cross_val_score(forest_Count, X_val, y_val, cv=10)))"
   ]
  },
  {
   "cell_type": "code",
   "execution_count": 309,
   "metadata": {
    "colab": {
     "base_uri": "https://localhost:8080/"
    },
    "id": "3Bv0MbkOXLIt",
    "outputId": "fa969190-826c-4c21-865d-424d989642ae"
   },
   "outputs": [
    {
     "name": "stdout",
     "output_type": "stream",
     "text": [
      "0.76183970856102\n"
     ]
    }
   ],
   "source": [
    "#testing score \n",
    "test_score =forest_Count.score(X_test,y_test)\n",
    "print(test_score)"
   ]
  },
  {
   "cell_type": "code",
   "execution_count": 310,
   "metadata": {
    "id": "AgHLIgWWfMav"
   },
   "outputs": [],
   "source": [
    "y_pred = forest_Count.predict(X_test)"
   ]
  },
  {
   "cell_type": "code",
   "execution_count": 311,
   "metadata": {
    "colab": {
     "base_uri": "https://localhost:8080/"
    },
    "id": "hp0pvaviJmMY",
    "outputId": "fbe4ab59-b44b-4f80-e58e-7aadfc4df3aa"
   },
   "outputs": [
    {
     "name": "stdout",
     "output_type": "stream",
     "text": [
      "0.76183970856102\n",
      "Recall >>  0.76183970856102\n",
      "Precision >>  0.7504354242033225\n",
      "F1 Score >>  0.7521136999907324\n"
     ]
    }
   ],
   "source": [
    "accuracy = metrics.accuracy_score(y_test, y_pred)\n",
    "print(accuracy)\n",
    "# Recall\n",
    "print(\"Recall >> \",recall_score(y_test,y_pred,average='weighted'))\n",
    "# Precision\n",
    "print(\"Precision >> \",precision_score(y_test,y_pred,average='weighted'))\n",
    "#F1 Score\n",
    "print(\"F1 Score >> \",f1_score(y_test,y_pred,average='weighted'))"
   ]
  },
  {
   "cell_type": "code",
   "execution_count": 312,
   "metadata": {
    "colab": {
     "base_uri": "https://localhost:8080/"
    },
    "id": "ctq0rTqDKVRV",
    "outputId": "9a818b6b-2ef8-4f6c-e038-a91c92975837"
   },
   "outputs": [
    {
     "name": "stdout",
     "output_type": "stream",
     "text": [
      "[0.90504451 0.48962656 0.59289617] [0.81009296 0.61139896 0.71381579]\n"
     ]
    }
   ],
   "source": [
    "#Recall and Precisicon for   each classes\n",
    "cm = confusion_matrix(y_test, y_pred)\n",
    "recall = np.diag(cm) / np.sum(cm, axis = 1)\n",
    "precision = np.diag(cm) / np.sum(cm, axis = 0)\n",
    "\n",
    "print(recall,precision)"
   ]
  },
  {
   "cell_type": "markdown",
   "metadata": {
    "id": "akrti0W-fCBn"
   },
   "source": [
    "# Confusion Matrix"
   ]
  },
  {
   "cell_type": "code",
   "execution_count": 313,
   "metadata": {
    "colab": {
     "base_uri": "https://localhost:8080/",
     "height": 280
    },
    "id": "0L8KNnj9fHJu",
    "outputId": "f5950cbe-8cbb-4027-ce35-0a5493a2cf36"
   },
   "outputs": [
    {
     "data": {
      "image/png": "[encoded data removed]",
      "text/plain": [
       "<Figure size 432x288 with 2 Axes>"
      ]
     },
     "metadata": {
      "needs_background": "light",
      "tags": []
     },
     "output_type": "display_data"
    }
   ],
   "source": [
    "draw_cm(y_test,y_pred)"
   ]
  },
  {
   "cell_type": "markdown",
   "metadata": {
    "id": "UUnk-rNzkQal"
   },
   "source": [
    "# Naive Bayes  on Count Vectorized Data"
   ]
  },
  {
   "cell_type": "code",
   "execution_count": 314,
   "metadata": {
    "colab": {
     "base_uri": "https://localhost:8080/"
    },
    "id": "yAneK-QGkPYf",
    "outputId": "8b4caea5-744c-4352-d405-94695f3be4d9"
   },
   "outputs": [
    {
     "name": "stdout",
     "output_type": "stream",
     "text": [
      "0.7641165755919854\n"
     ]
    }
   ],
   "source": [
    "from sklearn import naive_bayes\n",
    "classifier = naive_bayes.MultinomialNB()\n",
    "classifier.fit(X_train, y_train)\n",
    "\n",
    "predicted = classifier.predict(X_test)\n",
    "predicted_prob = classifier.predict_proba(X_test)\n",
    "accuracy = metrics.accuracy_score(y_test, predicted)\n",
    "print(accuracy)"
   ]
  },
  {
   "cell_type": "code",
   "execution_count": 315,
   "metadata": {
    "colab": {
     "base_uri": "https://localhost:8080/",
     "height": 279
    },
    "id": "GDBZXRmfKXDJ",
    "outputId": "fb8a4e40-79fe-4d71-96f1-821bd9863971"
   },
   "outputs": [
    {
     "data": {
      "image/png": "[encoded data removed]",
      "text/plain": [
       "<Figure size 432x288 with 2 Axes>"
      ]
     },
     "metadata": {
      "needs_background": "light",
      "tags": []
     },
     "output_type": "display_data"
    }
   ],
   "source": [
    "draw_cm(y_test,predicted)"
   ]
  },
  {
   "cell_type": "code",
   "execution_count": 316,
   "metadata": {
    "colab": {
     "base_uri": "https://localhost:8080/"
    },
    "id": "z1Zv5gGsKXiX",
    "outputId": "07e1e894-8b11-42da-974f-a5e622889f07"
   },
   "outputs": [
    {
     "name": "stdout",
     "output_type": "stream",
     "text": [
      "0.7641165755919854\n",
      "Recall >>  0.7641165755919854\n",
      "Precision >>  0.755295496910124\n",
      "F1 Score >>  0.7578457413458468\n"
     ]
    }
   ],
   "source": [
    "accuracy = metrics.accuracy_score(y_test, predicted)\n",
    "print(accuracy)\n",
    "# Recall\n",
    "print(\"Recall >> \",recall_score(y_test,predicted,average='weighted'))\n",
    "# Precision\n",
    "print(\"Precision >> \",precision_score(y_test,predicted,average='weighted'))\n",
    "#F1 Score\n",
    "print(\"F1 Score >> \",f1_score(y_test,predicted,average='weighted'))"
   ]
  },
  {
   "cell_type": "code",
   "execution_count": 317,
   "metadata": {
    "colab": {
     "base_uri": "https://localhost:8080/"
    },
    "id": "SiBWGDoDKcYJ",
    "outputId": "7fcea375-7d6d-4966-fccf-21ed5b171681"
   },
   "outputs": [
    {
     "name": "stdout",
     "output_type": "stream",
     "text": [
      "[0.8805638  0.50414938 0.67759563] [0.81918565 0.61055276 0.71060172]\n"
     ]
    }
   ],
   "source": [
    "#Recall and Precisicon for   each classes\n",
    "\n",
    "cm = confusion_matrix(y_test, predicted)\n",
    "recall = np.diag(cm) / np.sum(cm, axis = 1)\n",
    "precision = np.diag(cm) / np.sum(cm, axis = 0)\n",
    "\n",
    "print(recall,precision)"
   ]
  },
  {
   "cell_type": "markdown",
   "metadata": {
    "id": "najZmyJqZ1-a"
   },
   "source": [
    "# PCA to convert sparse matrix  into a datset  with reduced dimensionalty on TFIDF Vectorized Data"
   ]
  },
  {
   "cell_type": "code",
   "execution_count": 318,
   "metadata": {
    "id": "evgWNXDoZLXb"
   },
   "outputs": [],
   "source": [
    "from sklearn.decomposition import PCA"
   ]
  },
  {
   "cell_type": "code",
   "execution_count": 319,
   "metadata": {
    "id": "mql7PP6YaWZc"
   },
   "outputs": [],
   "source": [
    "# covMatrix = np.cov(data_TfIdfV,rowvar=False)\n",
    "# print(covMatrix)"
   ]
  },
  {
   "cell_type": "code",
   "execution_count": 320,
   "metadata": {
    "colab": {
     "base_uri": "https://localhost:8080/"
    },
    "id": "yy_f2IBvbSKU",
    "outputId": "6da5af43-eeb9-4434-81c7-5d62bad0a461"
   },
   "outputs": [
    {
     "data": {
      "text/plain": [
       "PCA(copy=True, iterated_power='auto', n_components=2000, random_state=None,\n",
       "    svd_solver='auto', tol=0.0, whiten=False)"
      ]
     },
     "execution_count": 320,
     "metadata": {
      "tags": []
     },
     "output_type": "execute_result"
    }
   ],
   "source": [
    "pca = PCA(n_components=2000)\n",
    "pca.fit(data_TfIdfV)"
   ]
  },
  {
   "cell_type": "code",
   "execution_count": 321,
   "metadata": {
    "colab": {
     "base_uri": "https://localhost:8080/"
    },
    "id": "skvECAXDbhqt",
    "outputId": "a163c2af-f20a-4339-bedb-22b01ea47ad9"
   },
   "outputs": [
    {
     "name": "stdout",
     "output_type": "stream",
     "text": [
      "[1.26060735e-02 9.49428697e-03 8.64935335e-03 ... 6.90738518e-05\n",
      " 6.89835931e-05 6.89675961e-05]\n"
     ]
    }
   ],
   "source": [
    "print(pca.explained_variance_ratio_)"
   ]
  },
  {
   "cell_type": "code",
   "execution_count": 322,
   "metadata": {
    "colab": {
     "base_uri": "https://localhost:8080/",
     "height": 279
    },
    "id": "D2LZ3gZVdX12",
    "outputId": "6c4248fd-bf60-4266-9eca-7f7aa018b451"
   },
   "outputs": [
    {
     "data": {
      "image/png": "[encoded data removed]",
      "text/plain": [
       "<Figure size 432x288 with 1 Axes>"
      ]
     },
     "metadata": {
      "needs_background": "light",
      "tags": []
     },
     "output_type": "display_data"
    }
   ],
   "source": [
    "import matplotlib.pyplot as plt \n",
    "%matplotlib inline \n",
    "plt.bar(list(range(1,2001)),pca.explained_variance_ratio_,alpha=0.5, align='center')\n",
    "plt.ylabel('Variation explained')\n",
    "plt.xlabel('eigen Value')\n",
    "plt.show()"
   ]
  },
  {
   "cell_type": "code",
   "execution_count": 323,
   "metadata": {
    "colab": {
     "base_uri": "https://localhost:8080/",
     "height": 279
    },
    "id": "WbEdNsLqeh-U",
    "outputId": "36e80b1f-b1de-4845-ca6e-de0630034c88"
   },
   "outputs": [
    {
     "data": {
      "image/png": "[encoded data removed]",
      "text/plain": [
       "<Figure size 432x288 with 1 Axes>"
      ]
     },
     "metadata": {
      "needs_background": "light",
      "tags": []
     },
     "output_type": "display_data"
    }
   ],
   "source": [
    "plt.step(list(range(1,2001)),np.cumsum(pca.explained_variance_ratio_), where='mid')\n",
    "plt.ylabel('Cum of variation explained')\n",
    "plt.xlabel('eigen Value')\n",
    "plt.show()"
   ]
  },
  {
   "cell_type": "code",
   "execution_count": 324,
   "metadata": {
    "colab": {
     "base_uri": "https://localhost:8080/"
    },
    "id": "BHiTIbtlexS3",
    "outputId": "e9ae91c8-f79e-4ddb-9c51-e5eb1302b416"
   },
   "outputs": [
    {
     "name": "stdout",
     "output_type": "stream",
     "text": [
      "[[-6.06530722e-03 -1.31456499e-04 -1.08736305e-04 ... -2.39730043e-05\n",
      "  -1.02207306e-04  2.66500475e-04]\n",
      " [ 2.20968968e-02  1.01753092e-04  1.20427613e-04 ... -9.78247040e-05\n",
      "  -3.46589199e-04  8.04700897e-05]\n",
      " [ 1.04379592e-02 -7.87480321e-05 -6.99043494e-05 ... -1.55623970e-04\n",
      "  -5.79035586e-04  1.59927436e-05]\n",
      " ...\n",
      " [-3.71395149e-03 -8.11104941e-04  2.80508039e-03 ... -6.99652974e-03\n",
      "  -1.52854237e-02  2.65185162e-03]\n",
      " [ 3.77552994e-03 -7.75847465e-05  2.85199043e-03 ... -2.66764957e-03\n",
      "  -1.42367105e-02  3.66203090e-03]\n",
      " [-8.24515167e-04  6.69545410e-03 -3.98436867e-04 ...  2.43932465e-02\n",
      "   2.29968582e-02 -7.02712938e-04]]\n",
      "[1.26060735e-02 9.49428697e-03 8.64935335e-03 ... 7.93619687e-05\n",
      " 7.92021235e-05 7.91517968e-05]\n"
     ]
    }
   ],
   "source": [
    "pcatfidf = PCA(n_components=1800)\n",
    "pcatfidf.fit(data_TfIdfV)\n",
    "print(pcatfidf.components_)\n",
    "print(pcatfidf.explained_variance_ratio_)\n",
    "pcatfidf = pcatfidf.transform(data_TfIdfV)"
   ]
  },
  {
   "cell_type": "markdown",
   "metadata": {
    "id": "-8t1ahl-f11z"
   },
   "source": [
    "# Train Test Split  PCA"
   ]
  },
  {
   "cell_type": "code",
   "execution_count": 325,
   "metadata": {
    "id": "qYsFj-Jaf0l4"
   },
   "outputs": [],
   "source": [
    "Y = df_data['airline_sentiment']\n",
    "X=pcatfidf\n",
    "from sklearn.model_selection import train_test_split\n",
    "\n",
    "X_train, X_test, y_train, y_test = train_test_split(X, Y, test_size=0.3, random_state=2)\n",
    "X_val, X_test, y_val, y_test = train_test_split(X_test, y_test, test_size=0.5, random_state=2)\n"
   ]
  },
  {
   "cell_type": "code",
   "execution_count": 326,
   "metadata": {
    "colab": {
     "base_uri": "https://localhost:8080/"
    },
    "id": "hG9Sxk43gduw",
    "outputId": "892460f1-df6a-47de-f55e-7aad053077cf"
   },
   "outputs": [
    {
     "name": "stdout",
     "output_type": "stream",
     "text": [
      "RandomForestClassifier(bootstrap=True, ccp_alpha=0.0, class_weight=None,\n",
      "                       criterion='gini', max_depth=None, max_features='auto',\n",
      "                       max_leaf_nodes=None, max_samples=None,\n",
      "                       min_impurity_decrease=0.0, min_impurity_split=None,\n",
      "                       min_samples_leaf=1, min_samples_split=2,\n",
      "                       min_weight_fraction_leaf=0.0, n_estimators=10, n_jobs=4,\n",
      "                       oob_score=False, random_state=None, verbose=0,\n",
      "                       warm_start=False)\n",
      "0.6357036114570362\n"
     ]
    }
   ],
   "source": [
    "from sklearn.ensemble import RandomForestClassifier\n",
    "from sklearn.model_selection import cross_val_score\n",
    "\n",
    "pcaforest = RandomForestClassifier(n_estimators=10, n_jobs=4)\n",
    "\n",
    "pcaforest = pcaforest.fit(X_train, y_train)\n",
    "\n",
    "print(pcaforest)\n",
    "\n",
    "print(np.mean(cross_val_score(pcaforest, X_val, y_val, cv=10)))"
   ]
  },
  {
   "cell_type": "code",
   "execution_count": 327,
   "metadata": {
    "colab": {
     "base_uri": "https://localhost:8080/"
    },
    "id": "vM0_GFagjML-",
    "outputId": "6834ad52-4039-4510-85cb-eaff99e20c3c"
   },
   "outputs": [
    {
     "name": "stdout",
     "output_type": "stream",
     "text": [
      "0.6666666666666666\n"
     ]
    }
   ],
   "source": [
    "#testing score \n",
    "test_score =pcaforest.score(X_test,y_test)\n",
    "print(test_score)"
   ]
  },
  {
   "cell_type": "markdown",
   "metadata": {
    "id": "Od60DLUSNGyo"
   },
   "source": [
    "# Summary of Preprocessing  techniques used\n",
    "  Below are the pre processing techniques used here to clean up the unstructred  data in the text corpus to Structured data , which can be processed by the machine learning algorith.\n",
    "\n",
    "*  Html tag removal :\n",
    "> As the twitter data might be obtained using various web scaping methods . There are high chances that it contains various HTL elements  or HTML Tags . These tags does not add any vlaue to the model. So using te BeautifulSoup libraray  the HTML tags were removed .\n",
    "*  Url removal :\n",
    "> Urls will not add any value in this sentiment analysis context , so this has been removed using regular expressions \n",
    "*  Replace Contraction in the language with its expanded form:\n",
    "> We have to replace contraction befor doing any special character replacement as  part of text preprocessing . This helps to retain the meaning of the sentence and in effect reduce the word frequecncies too.\n",
    "*  Tokenization :\n",
    "> Tokenization is used to convert the twitter feed back to a list of words , this is essential for getting the word frequencies when using count vectorizer or TFIDF   Vectorizer and Converting the document into machine redable numeric form  .\n",
    "*  Remove the numbers.\n",
    ">In this context the numbers in text does not  add value in the classification. so will remove the numbers using regular expression \n",
    "\n",
    "*  Removal of Special Characters and Punctuations.\n",
    ">In the twitter sentiment analysis context  special characters such as  commas , hyphens does not add value , so these needs to be removed . here it is removed using the  regular expression \n",
    "\n",
    "*  Conversion to lowercase.\n",
    "> In this context of sentiment analysis , we can convert the text into lowercase , this will reduce the  total unique number of words in the  documents  and frquency count will become more accurate  and this helps with dimensionality reduction\n",
    "*  Stopword Removal\n",
    ">  Stop words are the most commonly words ina texxt crpus , such as  \"so , is, an ,a, on\" . Removing these wors will not affect the basic meaning of the text  . The stopwords are downloaded here from the nltk  libraray and is customised so that the negative frequently used words such as no , not  etc  will not be removed from the text . As these negative words adds  value to the sentiment analysis context. Stopwords removal is used for  dimensionality reduction in vectorization.\n",
    "*  Lemmatization\n",
    "> Lemmatization of verbs are used and converted them into the basic form. This technique will redue the number of words in the preprocessed text  and lowers the dimensionality while retaining the meaning of the  text\n",
    "\n",
    "# Models on  Count Vectorized Data\n",
    "> Count Vectorization  : The  Document term matrix is created   using the countvectorzation method . This uses the count the number of times a each word  occurs in the document  . \n",
    "\n",
    "> Random Forest model and Naive bayse Model classifiers are tried out .  Accuracy of **Random forest** is **76.77** and  **Naive Bayes** is **76.41**\n",
    "\n",
    "# Models on  Tf IDF Vectorized Data\n",
    "> The Inverse document frequency vectorization captures the importance of words ina document . This type of vectorization reduces the impact of frequently used words in a document  . \n",
    "\n",
    "> Random Forest model and Naive bayse Model classifiers are tried out .  Accuracy of **Random forest** is **75.31** and  **Naive Bayes** is **73.58**\n",
    "\n",
    "# PCA on  Tf IDF Vectorized Data\n",
    "PCA  method is used to reduce the dimensionality of the TFIDF   vectorized data . PCA  final selection is done as 1800 based on the  variaence explained .\n",
    "The random forest method on this data gives  only  accuracy of 66.93\n"
   ]
  }
 ],
 "metadata": {
  "colab": {
   "collapsed_sections": [],
   "name": "Twitter Sentiment Analysis.ipynb",
   "provenance": []
  },
  "kernelspec": {
   "display_name": "Python 3",
   "language": "python",
   "name": "python3"
  },
  "language_info": {
   "codemirror_mode": {
    "name": "ipython",
    "version": 3
   },
   "file_extension": ".py",
   "mimetype": "text/x-python",
   "name": "python",
   "nbconvert_exporter": "python",
   "pygments_lexer": "ipython3",
   "version": "3.8.3"
  }
 },
 "nbformat": 4,
 "nbformat_minor": 1
}
